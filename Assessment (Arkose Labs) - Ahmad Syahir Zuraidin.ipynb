{
 "cells": [
  {
   "cell_type": "markdown",
   "id": "c56303d3",
   "metadata": {},
   "source": [
    "## Import library"
   ]
  },
  {
   "cell_type": "code",
   "execution_count": 2,
   "id": "1da20d62",
   "metadata": {},
   "outputs": [],
   "source": [
    "import pandas as pd # data manipulation\n",
    "import matplotlib.pyplot as plt # plotting library"
   ]
  },
  {
   "cell_type": "markdown",
   "id": "07870e30",
   "metadata": {},
   "source": [
    "## Reading CSV file into DataFrame"
   ]
  },
  {
   "cell_type": "code",
   "execution_count": 30,
   "id": "c0781e83",
   "metadata": {},
   "outputs": [],
   "source": [
    "df_basics = pd.read_csv('title_basics_2018.csv')\n",
    "df_ratings = pd.read_csv('title_ratings.csv')"
   ]
  },
  {
   "cell_type": "markdown",
   "id": "7b6c5822",
   "metadata": {},
   "source": [
    "## Exploratory Data Analysis (EDA)"
   ]
  },
  {
   "cell_type": "markdown",
   "id": "8f54312c",
   "metadata": {},
   "source": [
    "#### First 5 readings"
   ]
  },
  {
   "cell_type": "code",
   "execution_count": 31,
   "id": "a9cb8f32",
   "metadata": {},
   "outputs": [
    {
     "data": {
      "text/html": [
       "<div>\n",
       "<style scoped>\n",
       "    .dataframe tbody tr th:only-of-type {\n",
       "        vertical-align: middle;\n",
       "    }\n",
       "\n",
       "    .dataframe tbody tr th {\n",
       "        vertical-align: top;\n",
       "    }\n",
       "\n",
       "    .dataframe thead th {\n",
       "        text-align: right;\n",
       "    }\n",
       "</style>\n",
       "<table border=\"1\" class=\"dataframe\">\n",
       "  <thead>\n",
       "    <tr style=\"text-align: right;\">\n",
       "      <th></th>\n",
       "      <th>tconst</th>\n",
       "      <th>primaryTitle</th>\n",
       "      <th>originalTitle</th>\n",
       "      <th>year</th>\n",
       "      <th>runtimeMinutes</th>\n",
       "      <th>genres</th>\n",
       "    </tr>\n",
       "  </thead>\n",
       "  <tbody>\n",
       "    <tr>\n",
       "      <th>0</th>\n",
       "      <td>tt0069049</td>\n",
       "      <td>The Other Side of the Wind</td>\n",
       "      <td>The Other Side of the Wind</td>\n",
       "      <td>2018</td>\n",
       "      <td>122</td>\n",
       "      <td>Drama</td>\n",
       "    </tr>\n",
       "    <tr>\n",
       "      <th>1</th>\n",
       "      <td>tt0111414</td>\n",
       "      <td>A Thin Life</td>\n",
       "      <td>A Thin Life</td>\n",
       "      <td>2018</td>\n",
       "      <td>75</td>\n",
       "      <td>Comedy</td>\n",
       "    </tr>\n",
       "    <tr>\n",
       "      <th>2</th>\n",
       "      <td>tt0170651</td>\n",
       "      <td>T.G.M. - osvoboditel</td>\n",
       "      <td>T.G.M. - osvoboditel</td>\n",
       "      <td>2018</td>\n",
       "      <td>60</td>\n",
       "      <td>Documentary</td>\n",
       "    </tr>\n",
       "    <tr>\n",
       "      <th>3</th>\n",
       "      <td>tt0192528</td>\n",
       "      <td>Heaven &amp; Hell</td>\n",
       "      <td>Reverse Heaven</td>\n",
       "      <td>2018</td>\n",
       "      <td>104</td>\n",
       "      <td>Drama</td>\n",
       "    </tr>\n",
       "    <tr>\n",
       "      <th>4</th>\n",
       "      <td>tt0253093</td>\n",
       "      <td>Gangavataran</td>\n",
       "      <td>Gangavataran</td>\n",
       "      <td>2018</td>\n",
       "      <td>134</td>\n",
       "      <td>\\N</td>\n",
       "    </tr>\n",
       "  </tbody>\n",
       "</table>\n",
       "</div>"
      ],
      "text/plain": [
       "      tconst                primaryTitle               originalTitle  year  \\\n",
       "0  tt0069049  The Other Side of the Wind  The Other Side of the Wind  2018   \n",
       "1  tt0111414                 A Thin Life                 A Thin Life  2018   \n",
       "2  tt0170651        T.G.M. - osvoboditel        T.G.M. - osvoboditel  2018   \n",
       "3  tt0192528               Heaven & Hell              Reverse Heaven  2018   \n",
       "4  tt0253093                Gangavataran                Gangavataran  2018   \n",
       "\n",
       "   runtimeMinutes       genres  \n",
       "0             122        Drama  \n",
       "1              75       Comedy  \n",
       "2              60  Documentary  \n",
       "3             104        Drama  \n",
       "4             134           \\N  "
      ]
     },
     "execution_count": 31,
     "metadata": {},
     "output_type": "execute_result"
    }
   ],
   "source": [
    "df_basics.head()"
   ]
  },
  {
   "cell_type": "code",
   "execution_count": 32,
   "id": "edd052a9",
   "metadata": {},
   "outputs": [
    {
     "data": {
      "text/html": [
       "<div>\n",
       "<style scoped>\n",
       "    .dataframe tbody tr th:only-of-type {\n",
       "        vertical-align: middle;\n",
       "    }\n",
       "\n",
       "    .dataframe tbody tr th {\n",
       "        vertical-align: top;\n",
       "    }\n",
       "\n",
       "    .dataframe thead th {\n",
       "        text-align: right;\n",
       "    }\n",
       "</style>\n",
       "<table border=\"1\" class=\"dataframe\">\n",
       "  <thead>\n",
       "    <tr style=\"text-align: right;\">\n",
       "      <th></th>\n",
       "      <th>tconst</th>\n",
       "      <th>averageRating</th>\n",
       "      <th>numVotes</th>\n",
       "    </tr>\n",
       "  </thead>\n",
       "  <tbody>\n",
       "    <tr>\n",
       "      <th>0</th>\n",
       "      <td>tt0000001</td>\n",
       "      <td>5.6</td>\n",
       "      <td>1543</td>\n",
       "    </tr>\n",
       "    <tr>\n",
       "      <th>1</th>\n",
       "      <td>tt0000002</td>\n",
       "      <td>6.1</td>\n",
       "      <td>186</td>\n",
       "    </tr>\n",
       "    <tr>\n",
       "      <th>2</th>\n",
       "      <td>tt0000003</td>\n",
       "      <td>6.5</td>\n",
       "      <td>1201</td>\n",
       "    </tr>\n",
       "    <tr>\n",
       "      <th>3</th>\n",
       "      <td>tt0000004</td>\n",
       "      <td>6.2</td>\n",
       "      <td>114</td>\n",
       "    </tr>\n",
       "    <tr>\n",
       "      <th>4</th>\n",
       "      <td>tt0000005</td>\n",
       "      <td>6.1</td>\n",
       "      <td>1921</td>\n",
       "    </tr>\n",
       "  </tbody>\n",
       "</table>\n",
       "</div>"
      ],
      "text/plain": [
       "      tconst  averageRating  numVotes\n",
       "0  tt0000001            5.6      1543\n",
       "1  tt0000002            6.1       186\n",
       "2  tt0000003            6.5      1201\n",
       "3  tt0000004            6.2       114\n",
       "4  tt0000005            6.1      1921"
      ]
     },
     "execution_count": 32,
     "metadata": {},
     "output_type": "execute_result"
    }
   ],
   "source": [
    "df_ratings.head()"
   ]
  },
  {
   "cell_type": "markdown",
   "id": "60b5d1e4",
   "metadata": {},
   "source": [
    "#### Equal number of records and 'non-null count' indicates that there are no missing values for all columns for both DataFrames."
   ]
  },
  {
   "cell_type": "code",
   "execution_count": 23,
   "id": "1527e2b7",
   "metadata": {},
   "outputs": [
    {
     "name": "stdout",
     "output_type": "stream",
     "text": [
      "<class 'pandas.core.frame.DataFrame'>\n",
      "RangeIndex: 12815 entries, 0 to 12814\n",
      "Data columns (total 6 columns):\n",
      " #   Column          Non-Null Count  Dtype \n",
      "---  ------          --------------  ----- \n",
      " 0   tconst          12815 non-null  object\n",
      " 1   primaryTitle    12815 non-null  object\n",
      " 2   originalTitle   12815 non-null  object\n",
      " 3   year            12815 non-null  int64 \n",
      " 4   runtimeMinutes  12815 non-null  int64 \n",
      " 5   genres          12815 non-null  object\n",
      "dtypes: int64(2), object(4)\n",
      "memory usage: 600.8+ KB\n"
     ]
    }
   ],
   "source": [
    "df_basics.info()"
   ]
  },
  {
   "cell_type": "code",
   "execution_count": 24,
   "id": "7d6367c0",
   "metadata": {},
   "outputs": [
    {
     "name": "stdout",
     "output_type": "stream",
     "text": [
      "<class 'pandas.core.frame.DataFrame'>\n",
      "RangeIndex: 985459 entries, 0 to 985458\n",
      "Data columns (total 3 columns):\n",
      " #   Column         Non-Null Count   Dtype  \n",
      "---  ------         --------------   -----  \n",
      " 0   tconst         985459 non-null  object \n",
      " 1   averageRating  985459 non-null  float64\n",
      " 2   numVotes       985459 non-null  int64  \n",
      "dtypes: float64(1), int64(1), object(1)\n",
      "memory usage: 22.6+ MB\n"
     ]
    }
   ],
   "source": [
    "df_ratings.info()"
   ]
  },
  {
   "cell_type": "markdown",
   "id": "03c3d8ab",
   "metadata": {},
   "source": [
    "#### This confirms that all records are from Year 2018."
   ]
  },
  {
   "cell_type": "code",
   "execution_count": 25,
   "id": "7a241ffd",
   "metadata": {},
   "outputs": [
    {
     "data": {
      "text/html": [
       "<div>\n",
       "<style scoped>\n",
       "    .dataframe tbody tr th:only-of-type {\n",
       "        vertical-align: middle;\n",
       "    }\n",
       "\n",
       "    .dataframe tbody tr th {\n",
       "        vertical-align: top;\n",
       "    }\n",
       "\n",
       "    .dataframe thead th {\n",
       "        text-align: right;\n",
       "    }\n",
       "</style>\n",
       "<table border=\"1\" class=\"dataframe\">\n",
       "  <thead>\n",
       "    <tr style=\"text-align: right;\">\n",
       "      <th></th>\n",
       "      <th>year</th>\n",
       "      <th>runtimeMinutes</th>\n",
       "    </tr>\n",
       "  </thead>\n",
       "  <tbody>\n",
       "    <tr>\n",
       "      <th>count</th>\n",
       "      <td>12815.0</td>\n",
       "      <td>12815.000000</td>\n",
       "    </tr>\n",
       "    <tr>\n",
       "      <th>mean</th>\n",
       "      <td>2018.0</td>\n",
       "      <td>87.887163</td>\n",
       "    </tr>\n",
       "    <tr>\n",
       "      <th>std</th>\n",
       "      <td>0.0</td>\n",
       "      <td>33.998296</td>\n",
       "    </tr>\n",
       "    <tr>\n",
       "      <th>min</th>\n",
       "      <td>2018.0</td>\n",
       "      <td>1.000000</td>\n",
       "    </tr>\n",
       "    <tr>\n",
       "      <th>25%</th>\n",
       "      <td>2018.0</td>\n",
       "      <td>73.000000</td>\n",
       "    </tr>\n",
       "    <tr>\n",
       "      <th>50%</th>\n",
       "      <td>2018.0</td>\n",
       "      <td>89.000000</td>\n",
       "    </tr>\n",
       "    <tr>\n",
       "      <th>75%</th>\n",
       "      <td>2018.0</td>\n",
       "      <td>101.000000</td>\n",
       "    </tr>\n",
       "    <tr>\n",
       "      <th>max</th>\n",
       "      <td>2018.0</td>\n",
       "      <td>1320.000000</td>\n",
       "    </tr>\n",
       "  </tbody>\n",
       "</table>\n",
       "</div>"
      ],
      "text/plain": [
       "          year  runtimeMinutes\n",
       "count  12815.0    12815.000000\n",
       "mean    2018.0       87.887163\n",
       "std        0.0       33.998296\n",
       "min     2018.0        1.000000\n",
       "25%     2018.0       73.000000\n",
       "50%     2018.0       89.000000\n",
       "75%     2018.0      101.000000\n",
       "max     2018.0     1320.000000"
      ]
     },
     "execution_count": 25,
     "metadata": {},
     "output_type": "execute_result"
    }
   ],
   "source": [
    "df_basics.describe() "
   ]
  },
  {
   "cell_type": "code",
   "execution_count": 26,
   "id": "9edee4cd",
   "metadata": {},
   "outputs": [
    {
     "data": {
      "text/html": [
       "<div>\n",
       "<style scoped>\n",
       "    .dataframe tbody tr th:only-of-type {\n",
       "        vertical-align: middle;\n",
       "    }\n",
       "\n",
       "    .dataframe tbody tr th {\n",
       "        vertical-align: top;\n",
       "    }\n",
       "\n",
       "    .dataframe thead th {\n",
       "        text-align: right;\n",
       "    }\n",
       "</style>\n",
       "<table border=\"1\" class=\"dataframe\">\n",
       "  <thead>\n",
       "    <tr style=\"text-align: right;\">\n",
       "      <th></th>\n",
       "      <th>averageRating</th>\n",
       "      <th>numVotes</th>\n",
       "    </tr>\n",
       "  </thead>\n",
       "  <tbody>\n",
       "    <tr>\n",
       "      <th>count</th>\n",
       "      <td>985459.000000</td>\n",
       "      <td>9.854590e+05</td>\n",
       "    </tr>\n",
       "    <tr>\n",
       "      <th>mean</th>\n",
       "      <td>6.886208</td>\n",
       "      <td>9.577535e+02</td>\n",
       "    </tr>\n",
       "    <tr>\n",
       "      <th>std</th>\n",
       "      <td>1.401076</td>\n",
       "      <td>1.565533e+04</td>\n",
       "    </tr>\n",
       "    <tr>\n",
       "      <th>min</th>\n",
       "      <td>1.000000</td>\n",
       "      <td>5.000000e+00</td>\n",
       "    </tr>\n",
       "    <tr>\n",
       "      <th>25%</th>\n",
       "      <td>6.100000</td>\n",
       "      <td>9.000000e+00</td>\n",
       "    </tr>\n",
       "    <tr>\n",
       "      <th>50%</th>\n",
       "      <td>7.100000</td>\n",
       "      <td>2.000000e+01</td>\n",
       "    </tr>\n",
       "    <tr>\n",
       "      <th>75%</th>\n",
       "      <td>7.900000</td>\n",
       "      <td>7.600000e+01</td>\n",
       "    </tr>\n",
       "    <tr>\n",
       "      <th>max</th>\n",
       "      <td>10.000000</td>\n",
       "      <td>2.151694e+06</td>\n",
       "    </tr>\n",
       "  </tbody>\n",
       "</table>\n",
       "</div>"
      ],
      "text/plain": [
       "       averageRating      numVotes\n",
       "count  985459.000000  9.854590e+05\n",
       "mean        6.886208  9.577535e+02\n",
       "std         1.401076  1.565533e+04\n",
       "min         1.000000  5.000000e+00\n",
       "25%         6.100000  9.000000e+00\n",
       "50%         7.100000  2.000000e+01\n",
       "75%         7.900000  7.600000e+01\n",
       "max        10.000000  2.151694e+06"
      ]
     },
     "execution_count": 26,
     "metadata": {},
     "output_type": "execute_result"
    }
   ],
   "source": [
    "df_ratings.describe()"
   ]
  },
  {
   "cell_type": "markdown",
   "id": "877cd0f4",
   "metadata": {},
   "source": [
    "## Analysis"
   ]
  },
  {
   "cell_type": "markdown",
   "id": "ead75a02",
   "metadata": {},
   "source": [
    "### 1. According to the provided dataset, how many 2018 films were categorized as a Comedy?"
   ]
  },
  {
   "cell_type": "markdown",
   "id": "ae7e1ced",
   "metadata": {},
   "source": [
    "#### Since the datasets are already filtered for 2018, we don't need to include that in the filtering."
   ]
  },
  {
   "cell_type": "code",
   "execution_count": 43,
   "id": "ba7f712d",
   "metadata": {},
   "outputs": [
    {
     "data": {
      "text/html": [
       "<div>\n",
       "<style scoped>\n",
       "    .dataframe tbody tr th:only-of-type {\n",
       "        vertical-align: middle;\n",
       "    }\n",
       "\n",
       "    .dataframe tbody tr th {\n",
       "        vertical-align: top;\n",
       "    }\n",
       "\n",
       "    .dataframe thead th {\n",
       "        text-align: right;\n",
       "    }\n",
       "</style>\n",
       "<table border=\"1\" class=\"dataframe\">\n",
       "  <thead>\n",
       "    <tr style=\"text-align: right;\">\n",
       "      <th></th>\n",
       "      <th>tconst</th>\n",
       "      <th>year</th>\n",
       "      <th>genres</th>\n",
       "    </tr>\n",
       "  </thead>\n",
       "  <tbody>\n",
       "    <tr>\n",
       "      <th>1</th>\n",
       "      <td>tt0111414</td>\n",
       "      <td>2018</td>\n",
       "      <td>Comedy</td>\n",
       "    </tr>\n",
       "    <tr>\n",
       "      <th>11</th>\n",
       "      <td>tt0365545</td>\n",
       "      <td>2018</td>\n",
       "      <td>Comedy,Drama,Romance</td>\n",
       "    </tr>\n",
       "    <tr>\n",
       "      <th>13</th>\n",
       "      <td>tt0432010</td>\n",
       "      <td>2018</td>\n",
       "      <td>Comedy</td>\n",
       "    </tr>\n",
       "    <tr>\n",
       "      <th>14</th>\n",
       "      <td>tt0825334</td>\n",
       "      <td>2018</td>\n",
       "      <td>Comedy,Drama</td>\n",
       "    </tr>\n",
       "    <tr>\n",
       "      <th>16</th>\n",
       "      <td>tt0859635</td>\n",
       "      <td>2018</td>\n",
       "      <td>Comedy,Crime,Mystery</td>\n",
       "    </tr>\n",
       "    <tr>\n",
       "      <th>...</th>\n",
       "      <td>...</td>\n",
       "      <td>...</td>\n",
       "      <td>...</td>\n",
       "    </tr>\n",
       "    <tr>\n",
       "      <th>12800</th>\n",
       "      <td>tt9899840</td>\n",
       "      <td>2018</td>\n",
       "      <td>Adventure,Comedy,Family</td>\n",
       "    </tr>\n",
       "    <tr>\n",
       "      <th>12801</th>\n",
       "      <td>tt9899880</td>\n",
       "      <td>2018</td>\n",
       "      <td>Comedy,Drama</td>\n",
       "    </tr>\n",
       "    <tr>\n",
       "      <th>12803</th>\n",
       "      <td>tt9903952</td>\n",
       "      <td>2018</td>\n",
       "      <td>Comedy,Horror</td>\n",
       "    </tr>\n",
       "    <tr>\n",
       "      <th>12810</th>\n",
       "      <td>tt9908960</td>\n",
       "      <td>2018</td>\n",
       "      <td>Comedy</td>\n",
       "    </tr>\n",
       "    <tr>\n",
       "      <th>12812</th>\n",
       "      <td>tt9909650</td>\n",
       "      <td>2018</td>\n",
       "      <td>Comedy</td>\n",
       "    </tr>\n",
       "  </tbody>\n",
       "</table>\n",
       "<p>2233 rows × 3 columns</p>\n",
       "</div>"
      ],
      "text/plain": [
       "          tconst  year                   genres\n",
       "1      tt0111414  2018                   Comedy\n",
       "11     tt0365545  2018     Comedy,Drama,Romance\n",
       "13     tt0432010  2018                   Comedy\n",
       "14     tt0825334  2018             Comedy,Drama\n",
       "16     tt0859635  2018     Comedy,Crime,Mystery\n",
       "...          ...   ...                      ...\n",
       "12800  tt9899840  2018  Adventure,Comedy,Family\n",
       "12801  tt9899880  2018             Comedy,Drama\n",
       "12803  tt9903952  2018            Comedy,Horror\n",
       "12810  tt9908960  2018                   Comedy\n",
       "12812  tt9909650  2018                   Comedy\n",
       "\n",
       "[2233 rows x 3 columns]"
      ]
     },
     "execution_count": 43,
     "metadata": {},
     "output_type": "execute_result"
    }
   ],
   "source": [
    "df_basics = df_basics[['tconst', 'year', 'genres']]\n",
    "comedy_2018 = df_basics[(df_basics['genres'].str.contains('Comedy', case=False, na=False))]\n",
    "comedy_2018"
   ]
  },
  {
   "cell_type": "markdown",
   "id": "0ae31f0c",
   "metadata": {},
   "source": [
    "#### There are 2233 films categorized as Comedy in 2018."
   ]
  },
  {
   "cell_type": "code",
   "execution_count": 28,
   "id": "dc23bfe0",
   "metadata": {},
   "outputs": [
    {
     "name": "stdout",
     "output_type": "stream",
     "text": [
      "Number of 2018 films categorized as Comedy: 2233\n"
     ]
    }
   ],
   "source": [
    "count_comedy_2018 = len(comedy_2018)\n",
    "print(\"Number of 2018 films categorized as Comedy:\", count_comedy_2018)"
   ]
  },
  {
   "cell_type": "markdown",
   "id": "f3e3c3f7",
   "metadata": {},
   "source": [
    "### 2. According to the provided dataset, how many 2018 films got a score of 8.0 or higher?"
   ]
  },
  {
   "cell_type": "markdown",
   "id": "922ec899",
   "metadata": {},
   "source": [
    "#### Join the two tables by using merge method. Display the matching film only."
   ]
  },
  {
   "cell_type": "code",
   "execution_count": 33,
   "id": "ddaa21f2",
   "metadata": {},
   "outputs": [
    {
     "data": {
      "text/html": [
       "<div>\n",
       "<style scoped>\n",
       "    .dataframe tbody tr th:only-of-type {\n",
       "        vertical-align: middle;\n",
       "    }\n",
       "\n",
       "    .dataframe tbody tr th {\n",
       "        vertical-align: top;\n",
       "    }\n",
       "\n",
       "    .dataframe thead th {\n",
       "        text-align: right;\n",
       "    }\n",
       "</style>\n",
       "<table border=\"1\" class=\"dataframe\">\n",
       "  <thead>\n",
       "    <tr style=\"text-align: right;\">\n",
       "      <th></th>\n",
       "      <th>tconst</th>\n",
       "      <th>primaryTitle</th>\n",
       "      <th>originalTitle</th>\n",
       "      <th>year</th>\n",
       "      <th>runtimeMinutes</th>\n",
       "      <th>genres</th>\n",
       "      <th>averageRating</th>\n",
       "      <th>numVotes</th>\n",
       "    </tr>\n",
       "  </thead>\n",
       "  <tbody>\n",
       "    <tr>\n",
       "      <th>0</th>\n",
       "      <td>tt0069049</td>\n",
       "      <td>The Other Side of the Wind</td>\n",
       "      <td>The Other Side of the Wind</td>\n",
       "      <td>2018</td>\n",
       "      <td>122</td>\n",
       "      <td>Drama</td>\n",
       "      <td>6.9</td>\n",
       "      <td>4937</td>\n",
       "    </tr>\n",
       "    <tr>\n",
       "      <th>1</th>\n",
       "      <td>tt0170651</td>\n",
       "      <td>T.G.M. - osvoboditel</td>\n",
       "      <td>T.G.M. - osvoboditel</td>\n",
       "      <td>2018</td>\n",
       "      <td>60</td>\n",
       "      <td>Documentary</td>\n",
       "      <td>7.5</td>\n",
       "      <td>6</td>\n",
       "    </tr>\n",
       "    <tr>\n",
       "      <th>2</th>\n",
       "      <td>tt0192528</td>\n",
       "      <td>Heaven &amp; Hell</td>\n",
       "      <td>Reverse Heaven</td>\n",
       "      <td>2018</td>\n",
       "      <td>104</td>\n",
       "      <td>Drama</td>\n",
       "      <td>3.9</td>\n",
       "      <td>74</td>\n",
       "    </tr>\n",
       "    <tr>\n",
       "      <th>3</th>\n",
       "      <td>tt0253093</td>\n",
       "      <td>Gangavataran</td>\n",
       "      <td>Gangavataran</td>\n",
       "      <td>2018</td>\n",
       "      <td>134</td>\n",
       "      <td>\\N</td>\n",
       "      <td>6.6</td>\n",
       "      <td>8</td>\n",
       "    </tr>\n",
       "    <tr>\n",
       "      <th>4</th>\n",
       "      <td>tt0262759</td>\n",
       "      <td>Seven Jews from My Class</td>\n",
       "      <td>Siedmiu Zydów z mojej klasy</td>\n",
       "      <td>2018</td>\n",
       "      <td>40</td>\n",
       "      <td>Documentary</td>\n",
       "      <td>7.0</td>\n",
       "      <td>6</td>\n",
       "    </tr>\n",
       "    <tr>\n",
       "      <th>...</th>\n",
       "      <td>...</td>\n",
       "      <td>...</td>\n",
       "      <td>...</td>\n",
       "      <td>...</td>\n",
       "      <td>...</td>\n",
       "      <td>...</td>\n",
       "      <td>...</td>\n",
       "      <td>...</td>\n",
       "    </tr>\n",
       "    <tr>\n",
       "      <th>7224</th>\n",
       "      <td>tt9903952</td>\n",
       "      <td>BADMEN with a good behavior</td>\n",
       "      <td>BADMEN with a good behavior</td>\n",
       "      <td>2018</td>\n",
       "      <td>87</td>\n",
       "      <td>Comedy,Horror</td>\n",
       "      <td>7.8</td>\n",
       "      <td>6</td>\n",
       "    </tr>\n",
       "    <tr>\n",
       "      <th>7225</th>\n",
       "      <td>tt9904014</td>\n",
       "      <td>Lost in Klessin</td>\n",
       "      <td>Lost in Klessin</td>\n",
       "      <td>2018</td>\n",
       "      <td>90</td>\n",
       "      <td>War</td>\n",
       "      <td>7.5</td>\n",
       "      <td>14</td>\n",
       "    </tr>\n",
       "    <tr>\n",
       "      <th>7226</th>\n",
       "      <td>tt9904530</td>\n",
       "      <td>Scream Returns</td>\n",
       "      <td>Scream Returns</td>\n",
       "      <td>2018</td>\n",
       "      <td>48</td>\n",
       "      <td>Horror,Thriller</td>\n",
       "      <td>3.0</td>\n",
       "      <td>6</td>\n",
       "    </tr>\n",
       "    <tr>\n",
       "      <th>7227</th>\n",
       "      <td>tt9908960</td>\n",
       "      <td>Pliusas</td>\n",
       "      <td>Pliusas</td>\n",
       "      <td>2018</td>\n",
       "      <td>90</td>\n",
       "      <td>Comedy</td>\n",
       "      <td>4.1</td>\n",
       "      <td>18</td>\n",
       "    </tr>\n",
       "    <tr>\n",
       "      <th>7228</th>\n",
       "      <td>tt9914644</td>\n",
       "      <td>9/11: Escape from the Towers</td>\n",
       "      <td>9/11: Escape from the Towers</td>\n",
       "      <td>2018</td>\n",
       "      <td>120</td>\n",
       "      <td>Documentary</td>\n",
       "      <td>8.4</td>\n",
       "      <td>24</td>\n",
       "    </tr>\n",
       "  </tbody>\n",
       "</table>\n",
       "<p>7229 rows × 8 columns</p>\n",
       "</div>"
      ],
      "text/plain": [
       "         tconst                  primaryTitle                 originalTitle  \\\n",
       "0     tt0069049    The Other Side of the Wind    The Other Side of the Wind   \n",
       "1     tt0170651          T.G.M. - osvoboditel          T.G.M. - osvoboditel   \n",
       "2     tt0192528                 Heaven & Hell                Reverse Heaven   \n",
       "3     tt0253093                  Gangavataran                  Gangavataran   \n",
       "4     tt0262759      Seven Jews from My Class   Siedmiu Zydów z mojej klasy   \n",
       "...         ...                           ...                           ...   \n",
       "7224  tt9903952   BADMEN with a good behavior   BADMEN with a good behavior   \n",
       "7225  tt9904014               Lost in Klessin               Lost in Klessin   \n",
       "7226  tt9904530                Scream Returns                Scream Returns   \n",
       "7227  tt9908960                       Pliusas                       Pliusas   \n",
       "7228  tt9914644  9/11: Escape from the Towers  9/11: Escape from the Towers   \n",
       "\n",
       "      year  runtimeMinutes           genres  averageRating  numVotes  \n",
       "0     2018             122            Drama            6.9      4937  \n",
       "1     2018              60      Documentary            7.5         6  \n",
       "2     2018             104            Drama            3.9        74  \n",
       "3     2018             134               \\N            6.6         8  \n",
       "4     2018              40      Documentary            7.0         6  \n",
       "...    ...             ...              ...            ...       ...  \n",
       "7224  2018              87    Comedy,Horror            7.8         6  \n",
       "7225  2018              90              War            7.5        14  \n",
       "7226  2018              48  Horror,Thriller            3.0         6  \n",
       "7227  2018              90           Comedy            4.1        18  \n",
       "7228  2018             120      Documentary            8.4        24  \n",
       "\n",
       "[7229 rows x 8 columns]"
      ]
     },
     "execution_count": 33,
     "metadata": {},
     "output_type": "execute_result"
    }
   ],
   "source": [
    "merged_df = pd.merge(df_basics, df_ratings, on='tconst')\n",
    "merged_df"
   ]
  },
  {
   "cell_type": "markdown",
   "id": "3dca641c",
   "metadata": {},
   "source": [
    "#### There are 780 films with a score (average rating) of 8.0 or higher in 2018."
   ]
  },
  {
   "cell_type": "code",
   "execution_count": 34,
   "id": "80b2da35",
   "metadata": {},
   "outputs": [
    {
     "name": "stdout",
     "output_type": "stream",
     "text": [
      "Number of 2018 films with a score (average rating) of 8.0 or higher: 780\n"
     ]
    }
   ],
   "source": [
    "high_rated_films_2018 = merged_df[merged_df['averageRating'] >= 8.0]\n",
    "number_of_high_rated_films = len(high_rated_films_2018)\n",
    "print(f'Number of 2018 films with a score (average rating) of 8.0 or higher: {number_of_high_rated_films}')"
   ]
  },
  {
   "cell_type": "markdown",
   "id": "e74febdf",
   "metadata": {},
   "source": [
    "### 3. What was the best film of 2018?"
   ]
  },
  {
   "cell_type": "markdown",
   "id": "68d530e4",
   "metadata": {},
   "source": [
    "#### Based on the datasets, a more accurate approach would be to filter both averageRating and numVotes.\n",
    "#### However, since there is only one row of data when filtering for averageRating, it makes no difference if we were to filter for numVotes.\n",
    "#### Therefore, the best film of 2018 is Exteriores: Mulheres Brasileiras na Diplomacia."
   ]
  },
  {
   "cell_type": "code",
   "execution_count": 35,
   "id": "9dcef626",
   "metadata": {},
   "outputs": [
    {
     "data": {
      "text/html": [
       "<div>\n",
       "<style scoped>\n",
       "    .dataframe tbody tr th:only-of-type {\n",
       "        vertical-align: middle;\n",
       "    }\n",
       "\n",
       "    .dataframe tbody tr th {\n",
       "        vertical-align: top;\n",
       "    }\n",
       "\n",
       "    .dataframe thead th {\n",
       "        text-align: right;\n",
       "    }\n",
       "</style>\n",
       "<table border=\"1\" class=\"dataframe\">\n",
       "  <thead>\n",
       "    <tr style=\"text-align: right;\">\n",
       "      <th></th>\n",
       "      <th>tconst</th>\n",
       "      <th>primaryTitle</th>\n",
       "      <th>originalTitle</th>\n",
       "      <th>year</th>\n",
       "      <th>runtimeMinutes</th>\n",
       "      <th>genres</th>\n",
       "      <th>averageRating</th>\n",
       "      <th>numVotes</th>\n",
       "    </tr>\n",
       "  </thead>\n",
       "  <tbody>\n",
       "    <tr>\n",
       "      <th>45</th>\n",
       "      <td>tt10176328</td>\n",
       "      <td>Exteriores: Mulheres Brasileiras na Diplomacia</td>\n",
       "      <td>Exteriores: Mulheres Brasileiras na Diplomacia</td>\n",
       "      <td>2018</td>\n",
       "      <td>52</td>\n",
       "      <td>Documentary</td>\n",
       "      <td>10.0</td>\n",
       "      <td>5</td>\n",
       "    </tr>\n",
       "  </tbody>\n",
       "</table>\n",
       "</div>"
      ],
      "text/plain": [
       "        tconst                                    primaryTitle  \\\n",
       "45  tt10176328  Exteriores: Mulheres Brasileiras na Diplomacia   \n",
       "\n",
       "                                     originalTitle  year  runtimeMinutes  \\\n",
       "45  Exteriores: Mulheres Brasileiras na Diplomacia  2018              52   \n",
       "\n",
       "         genres  averageRating  numVotes  \n",
       "45  Documentary           10.0         5  "
      ]
     },
     "execution_count": 35,
     "metadata": {},
     "output_type": "execute_result"
    }
   ],
   "source": [
    "high_rating = merged_df[merged_df['averageRating'] == merged_df['averageRating'].max()]\n",
    "high_rating"
   ]
  },
  {
   "cell_type": "markdown",
   "id": "007ca958",
   "metadata": {},
   "source": [
    "### 4. Do audiences prefer longer films, or shorter films?"
   ]
  },
  {
   "cell_type": "markdown",
   "id": "383e1be3",
   "metadata": {},
   "source": [
    "#### Correlation between runtime and average rating.\n",
    "#### A positive correlation suggests that longer films tend to receive higher ratings, while a negative correlation suggests the opposite."
   ]
  },
  {
   "cell_type": "code",
   "execution_count": 36,
   "id": "3686d930",
   "metadata": {},
   "outputs": [
    {
     "data": {
      "text/plain": [
       "0.03588627813406634"
      ]
     },
     "execution_count": 36,
     "metadata": {},
     "output_type": "execute_result"
    }
   ],
   "source": [
    "correlation = merged_df['runtimeMinutes'].corr(merged_df['averageRating'])\n",
    "\n",
    "correlation"
   ]
  },
  {
   "cell_type": "markdown",
   "id": "7270a926",
   "metadata": {},
   "source": [
    "#### Scatter plot of runtime versus average rating.\n",
    "#### The plot shows a slight trend of high rating for higher runtime films indicated by the heavy density on the top portion."
   ]
  },
  {
   "cell_type": "code",
   "execution_count": 37,
   "id": "f27adf18",
   "metadata": {},
   "outputs": [
    {
     "data": {
      "image/png": "[encoded data removed]",
      "text/plain": [
       "<Figure size 640x480 with 1 Axes>"
      ]
     },
     "metadata": {},
     "output_type": "display_data"
    }
   ],
   "source": [
    "plt.scatter(merged_df['runtimeMinutes'], merged_df['averageRating'])\n",
    "plt.xlabel('Runtime (minutes)')\n",
    "plt.ylabel('Average Rating')\n",
    "plt.title('Scatter Plot of Runtime vs. Average Rating')\n",
    "plt.show()"
   ]
  },
  {
   "cell_type": "markdown",
   "id": "67547b5d",
   "metadata": {},
   "source": [
    "#### The median runtime is calculated in order to identify the cutoff point which is 93 minutes."
   ]
  },
  {
   "cell_type": "code",
   "execution_count": 38,
   "id": "0ee80aef",
   "metadata": {},
   "outputs": [
    {
     "name": "stdout",
     "output_type": "stream",
     "text": [
      "Median runtime: 93.0 minutes\n"
     ]
    }
   ],
   "source": [
    "# Calculate summary statistics for shorter and longer films\n",
    "median_runtime = merged_df['runtimeMinutes'].median()\n",
    "print(f'Median runtime: {median_runtime} minutes')"
   ]
  },
  {
   "cell_type": "markdown",
   "id": "c25c4b10",
   "metadata": {},
   "source": [
    "#### This allows us to distinguish films belonging to the 'short' and 'long' category."
   ]
  },
  {
   "cell_type": "code",
   "execution_count": 39,
   "id": "3d9de0b6",
   "metadata": {},
   "outputs": [
    {
     "name": "stdout",
     "output_type": "stream",
     "text": [
      "Count of shorter films: 3545\n",
      "Count of shorter films: 3684\n"
     ]
    }
   ],
   "source": [
    "shorter_films = merged_df[merged_df['runtimeMinutes'] < median_runtime]\n",
    "print(f'Count of shorter films: {len(shorter_films)}')\n",
    "longer_films = merged_df[merged_df['runtimeMinutes'] >= median_runtime]\n",
    "print(f'Count of shorter films: {len(longer_films)}')"
   ]
  },
  {
   "cell_type": "markdown",
   "id": "98d2ee45",
   "metadata": {},
   "source": [
    "#### The average rating for both categories is then calculated and compared. \n",
    "#### The analysis indicates that audiences prefer longer films."
   ]
  },
  {
   "cell_type": "code",
   "execution_count": 41,
   "id": "64d6be61",
   "metadata": {},
   "outputs": [
    {
     "name": "stdout",
     "output_type": "stream",
     "text": [
      "Average Rating for Shorter Films: 6.17966149506348\n",
      "Average Rating for Longer Films: 6.310260586319219\n"
     ]
    }
   ],
   "source": [
    "avg_rating_shorter = shorter_films['averageRating'].mean()\n",
    "avg_rating_longer = longer_films['averageRating'].mean()\n",
    "print(f'Average Rating for Shorter Films: {avg_rating_shorter}')\n",
    "print(f'Average Rating for Longer Films: {avg_rating_longer}')"
   ]
  }
 ],
 "metadata": {
  "kernelspec": {
   "display_name": "Python 3 (ipykernel)",
   "language": "python",
   "name": "python3"
  },
  "language_info": {
   "codemirror_mode": {
    "name": "ipython",
    "version": 3
   },
   "file_extension": ".py",
   "mimetype": "text/x-python",
   "name": "python",
   "nbconvert_exporter": "python",
   "pygments_lexer": "ipython3",
   "version": "3.9.13"
  }
 },
 "nbformat": 4,
 "nbformat_minor": 5
}
